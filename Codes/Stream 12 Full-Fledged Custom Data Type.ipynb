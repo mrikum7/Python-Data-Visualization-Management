{
 "cells": [
  {
   "cell_type": "markdown",
   "metadata": {},
   "source": [
    "## DHA"
   ]
  },
  {
   "cell_type": "markdown",
   "metadata": {},
   "source": [
    "\n",
    "## Write Down a program for modified list so that two lists can be multiplied in following fashion\n",
    "\n",
    "[1, 2, 3] * [3, 4, 5] = [3, 8, 15]\n"
   ]
  },
  {
   "cell_type": "code",
   "execution_count": 17,
   "metadata": {},
   "outputs": [],
   "source": [
    "class List(list):\n",
    "    def __init__(self, a):\n",
    "        #super().__init__(a)\n",
    "        self.a = a\n",
    "        \n",
    "    def __mul__(self, other):\n",
    "        if len(self.a) == len(other.a):\n",
    "            empty = []\n",
    "            for i in range(len(self.a)):\n",
    "                empty.append(self.a[i] * other.a[i])\n",
    "            return List(empty)\n",
    "        else:\n",
    "            raise Exception(\"Both the Lists have different length\")\n",
    "    def __repr__(self):\n",
    "        return str(self.a)"
   ]
  },
  {
   "cell_type": "code",
   "execution_count": 18,
   "metadata": {},
   "outputs": [],
   "source": [
    "obj1 = List([1, 2, 3])"
   ]
  },
  {
   "cell_type": "code",
   "execution_count": 19,
   "metadata": {},
   "outputs": [],
   "source": [
    "obj2 = List([5, 6, 7])"
   ]
  },
  {
   "cell_type": "code",
   "execution_count": 21,
   "metadata": {},
   "outputs": [],
   "source": [
    "obj3 = List([7, 10, 2])"
   ]
  },
  {
   "cell_type": "code",
   "execution_count": 22,
   "metadata": {},
   "outputs": [
    {
     "data": {
      "text/plain": [
       "[35, 120, 42]"
      ]
     },
     "execution_count": 22,
     "metadata": {},
     "output_type": "execute_result"
    }
   ],
   "source": [
    "obj1 * obj2 * obj3"
   ]
  },
  {
   "cell_type": "code",
   "execution_count": 85,
   "metadata": {},
   "outputs": [],
   "source": [
    "class Matrix:\n",
    "    def __init__(self, LIST):\n",
    "        self.LIST = LIST\n",
    "    \n",
    "    def __repr__(self):\n",
    "        string = 'Matrix(['\n",
    "        for i in range(len(self.LIST)):\n",
    "            string = string + str(self.LIST[i]) + '\\n\\t'\n",
    "        string = string.rstrip('\\n\\t') + \"])\"\n",
    "        return string\n",
    "    \n",
    "    def __add__(self, other):\n",
    "        if len(self.LIST) == len(other.LIST):\n",
    "            e1 = []\n",
    "            for i in range(len(self.LIST)):\n",
    "                e2 = []\n",
    "                for j in range(len(self.LIST[i])):\n",
    "                    e2.append(self.LIST[i][j] + \\\n",
    "                              other.LIST[i][j])\n",
    "                e1.append(e2)\n",
    "            return Matrix(e1)\n",
    "        else:\n",
    "            raise Exception(\"Error Occured!!\")\n",
    "    \n",
    "    def __sub__(self, other):\n",
    "        if len(self.LIST) == len(other.LIST):\n",
    "            e1 = []\n",
    "            for i in range(len(self.LIST)):\n",
    "                e2 = []\n",
    "                for j in range(len(self.LIST[i])):\n",
    "                    e2.append(self.LIST[i][j] - \\\n",
    "                              other.LIST[i][j])\n",
    "                e1.append(e2)\n",
    "            return Matrix(e1)\n",
    "        else:\n",
    "            raise Exception(\"Error Occured!!\")\n",
    "                \n",
    "    def __mul__(self, other):\n",
    "        if len(self.LIST) == len(other.LIST):\n",
    "            e1 = []\n",
    "            for i in range(len(self.LIST)):\n",
    "                e2 = []\n",
    "                for j in range(len(self.LIST[i])):\n",
    "                    e2.append(self.LIST[i][j] * \\\n",
    "                              other.LIST[i][j])\n",
    "                e1.append(e2)\n",
    "            return Matrix(e1)\n",
    "        else:\n",
    "            raise Exception(\"Error Occured!!\")"
   ]
  },
  {
   "cell_type": "code",
   "execution_count": 86,
   "metadata": {},
   "outputs": [],
   "source": [
    "obj1 = Matrix([[1, 2, 3], [4, 5, 6]])\n",
    "obj2 = Matrix([[4, 4, 5], [3, 4, 5]])"
   ]
  },
  {
   "cell_type": "code",
   "execution_count": 87,
   "metadata": {},
   "outputs": [
    {
     "data": {
      "text/plain": [
       "Matrix([[4, 8, 15]\n",
       "\t[12, 20, 30]])"
      ]
     },
     "execution_count": 87,
     "metadata": {},
     "output_type": "execute_result"
    }
   ],
   "source": [
    "obj1 * obj2"
   ]
  },
  {
   "cell_type": "code",
   "execution_count": 88,
   "metadata": {},
   "outputs": [
    {
     "data": {
      "text/plain": [
       "__main__.Matrix"
      ]
     },
     "execution_count": 88,
     "metadata": {},
     "output_type": "execute_result"
    }
   ],
   "source": [
    "type(obj1)"
   ]
  },
  {
   "cell_type": "code",
   "execution_count": null,
   "metadata": {},
   "outputs": [],
   "source": [
    "Termux / PyDroid"
   ]
  }
 ],
 "metadata": {
  "kernelspec": {
   "display_name": "Python 3",
   "language": "python",
   "name": "python3"
  },
  "language_info": {
   "codemirror_mode": {
    "name": "ipython",
    "version": 3
   },
   "file_extension": ".py",
   "mimetype": "text/x-python",
   "name": "python",
   "nbconvert_exporter": "python",
   "pygments_lexer": "ipython3",
   "version": "3.7.4"
  }
 },
 "nbformat": 4,
 "nbformat_minor": 2
}
