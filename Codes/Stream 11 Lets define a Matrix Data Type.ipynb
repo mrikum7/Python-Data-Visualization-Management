{
 "cells": [
  {
   "cell_type": "code",
   "execution_count": 20,
   "metadata": {},
   "outputs": [],
   "source": [
    "a = [1, 2, 4, 5, 6, 7, 8, 9]\n",
    "b = [4, 5, 2, 3, 4, 5, 6, 3]"
   ]
  },
  {
   "cell_type": "code",
   "execution_count": 21,
   "metadata": {},
   "outputs": [
    {
     "data": {
      "text/plain": [
       "[1, 2, 4, 5, 6, 7, 8, 9, 4, 5, 2, 3, 4, 5, 6, 3]"
      ]
     },
     "execution_count": 21,
     "metadata": {},
     "output_type": "execute_result"
    }
   ],
   "source": [
    "a + b"
   ]
  },
  {
   "cell_type": "code",
   "execution_count": 22,
   "metadata": {},
   "outputs": [
    {
     "data": {
      "text/plain": [
       "[5, 7, 6, 8, 10, 12, 14, 12]"
      ]
     },
     "execution_count": 22,
     "metadata": {},
     "output_type": "execute_result"
    }
   ],
   "source": [
    "empty = []\n",
    "for i in range(len(a)):\n",
    "    empty.append(a[i] + b[i])\n",
    "\n",
    "empty"
   ]
  },
  {
   "cell_type": "code",
   "execution_count": 36,
   "metadata": {},
   "outputs": [],
   "source": [
    "class List(list):\n",
    "    def __init__(self, a):\n",
    "        super().__init__(a)\n",
    "        self.a = a\n",
    "        \n",
    "    def __add__(self, other):\n",
    "        if len(self.a) == len(other.a):\n",
    "            empty = []\n",
    "            for i in range(len(self.a)):\n",
    "                empty.append(self.a[i] + other.a[i])\n",
    "            return List(empty)\n",
    "        else:\n",
    "            raise Exception(\"The Lengths of two lists\\\n",
    "                              are not equal\")\n",
    "            \n",
    "    def __sub__(self, other):\n",
    "        if len(self.a) == len(other.a):\n",
    "            empty = []\n",
    "            for i in range(len(self.a)):\n",
    "                empty.append(self.a[i] - other.a[i])\n",
    "            return List(empty)\n",
    "        else:\n",
    "            raise Exception(\"The Lengths of two lists\\\n",
    "                              are not equal\")"
   ]
  },
  {
   "cell_type": "code",
   "execution_count": 39,
   "metadata": {},
   "outputs": [],
   "source": [
    "a = List([1, 2, 3])\n",
    "b = List([4, 5, 6])"
   ]
  },
  {
   "cell_type": "code",
   "execution_count": 41,
   "metadata": {},
   "outputs": [
    {
     "data": {
      "text/plain": [
       "[-3, -3, -3]"
      ]
     },
     "execution_count": 41,
     "metadata": {},
     "output_type": "execute_result"
    }
   ],
   "source": [
    "a - b"
   ]
  },
  {
   "cell_type": "markdown",
   "metadata": {},
   "source": [
    "## DHA"
   ]
  },
  {
   "cell_type": "markdown",
   "metadata": {},
   "source": [
    "# Write Down a program for modified list so that two lists can be multiplied in following fashion\n",
    "\n",
    "[1, 2, 3] * [3, 4, 5] = [3, 8, 15]"
   ]
  },
  {
   "cell_type": "code",
   "execution_count": null,
   "metadata": {},
   "outputs": [],
   "source": []
  }
 ],
 "metadata": {
  "kernelspec": {
   "display_name": "Python 3",
   "language": "python",
   "name": "python3"
  },
  "language_info": {
   "codemirror_mode": {
    "name": "ipython",
    "version": 3
   },
   "file_extension": ".py",
   "mimetype": "text/x-python",
   "name": "python",
   "nbconvert_exporter": "python",
   "pygments_lexer": "ipython3",
   "version": "3.7.4"
  }
 },
 "nbformat": 4,
 "nbformat_minor": 2
}
