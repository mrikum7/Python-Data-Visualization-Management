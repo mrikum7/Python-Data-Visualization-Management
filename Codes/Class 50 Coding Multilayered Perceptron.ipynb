{
 "cells": [
  {
   "cell_type": "code",
   "execution_count": 1,
   "metadata": {},
   "outputs": [],
   "source": [
    "import numpy as np"
   ]
  },
  {
   "cell_type": "code",
   "execution_count": 5,
   "metadata": {},
   "outputs": [
    {
     "name": "stdout",
     "output_type": "stream",
     "text": [
      "[[1 2 2]]\n",
      "[[0 2 1]]\n",
      "[[-1  1  1]]\n",
      "[[-1  1  1]]\n",
      "[[-1  1  1]]\n",
      "[[-2  1  0]]\n",
      "[[-2  1  0]]\n",
      "[[-1  2  1]]\n",
      "[[-1  2  1]]\n",
      "[[-2  2  0]]\n",
      "[[-3  1  0]]\n",
      "[[-2  2  1]]\n",
      "[[-2  2  1]]\n",
      "[[-2  2  1]]\n",
      "[[-3  1  1]]\n",
      "[[-2  2  2]]\n",
      "[[-2  2  2]]\n",
      "[[-3  2  1]]\n",
      "[[-3  2  1]]\n",
      "[[-2  3  2]]\n",
      "[[-2  3  2]]\n",
      "[[-3  3  1]]\n",
      "[[-4  2  1]]\n",
      "[[-3  3  2]]\n",
      "[[-3  3  2]]\n",
      "[[-3  3  2]]\n",
      "[[-4  2  2]]\n",
      "[[-3  3  3]]\n",
      "[[-3  3  3]]\n",
      "[[-4  3  2]]\n",
      "[[-4  3  2]]\n",
      "[[-4  3  2]]\n",
      "[[-4  3  2]]\n",
      "[[-4  3  2]]\n",
      "[[-4  3  2]]\n",
      "[[-4  3  2]]\n",
      "[[-4  3  2]]\n",
      "[[-4  3  2]]\n",
      "[[-4  3  2]]\n",
      "[[-4  3  2]]\n"
     ]
    }
   ],
   "source": [
    "table = np.asarray([[1, 0, 0, 0],\n",
    "                   [1, 0, 1, 0],\n",
    "                   [1, 1, 0, 0],\n",
    "                   [1, 1, 1, 1]])\n",
    "\n",
    "W = np.asarray([[2, 2, 2]])\n",
    "\n",
    "for i in range(10):\n",
    "    for j in range(4):\n",
    "        if W.dot(table[j, :][0:3].T) >= 0 and table[j, 3] == 0:\n",
    "            W = W - table[j, 0:3]\n",
    "        elif W.dot(table[j, :][0:3].T) <= 0 and table[j, 3] == 1:\n",
    "            W = W + table[j, 0:3]\n",
    "        print(W)"
   ]
  },
  {
   "cell_type": "code",
   "execution_count": null,
   "metadata": {},
   "outputs": [],
   "source": []
  }
 ],
 "metadata": {
  "kernelspec": {
   "display_name": "Python 3",
   "language": "python",
   "name": "python3"
  },
  "language_info": {
   "codemirror_mode": {
    "name": "ipython",
    "version": 3
   },
   "file_extension": ".py",
   "mimetype": "text/x-python",
   "name": "python",
   "nbconvert_exporter": "python",
   "pygments_lexer": "ipython3",
   "version": "3.7.4"
  }
 },
 "nbformat": 4,
 "nbformat_minor": 2
}
