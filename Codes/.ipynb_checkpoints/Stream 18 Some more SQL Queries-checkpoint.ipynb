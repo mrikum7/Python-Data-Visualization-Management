{
 "cells": [
  {
   "cell_type": "code",
   "execution_count": null,
   "metadata": {},
   "outputs": [],
   "source": [
    "#SELECT * from telematics;\n",
    "\n",
    "#SELECT * from telematics where Roll <= 1904810 and Roll >= 1904800;\n",
    "#SELECT * from telematics where Roll >= 1904800 limit 10;"
   ]
  },
  {
   "cell_type": "code",
   "execution_count": null,
   "metadata": {},
   "outputs": [],
   "source": [
    "--SELECT * from telematics;\n",
    "--SELECT * from telematics where Roll <= 1904810 and Roll >= 1904800;\n",
    "--SELECT * from telematics where Roll >= 1904800 limit 10;\n",
    "--SELECT * from telematics limit 11 offset 9;\n",
    "--SELECT * from telematics where Name like \"d%\" or Name like \"a%\" or Name like \"g%\"; --a d g\n",
    "--SELECT * from telematics where Roll BETWEEN 1904800 and 1904810;--'BETWEEN' and 'and' \n",
    "--SELECT * from telematics where Name between \"A%\" and \"E%\" order by Name;\n",
    "\n"
   ]
  },
  {
   "cell_type": "code",
   "execution_count": null,
   "metadata": {},
   "outputs": [],
   "source": [
    "create table test (id INTEGER PRIMARY KEY, \n",
    "\t\t\t\t   Name char,\n",
    "\t\t\t\t   Gender char,\n",
    "\t\t\t\t   DOB date,\n",
    "\t\t\t\t   email char);"
   ]
  },
  {
   "cell_type": "code",
   "execution_count": null,
   "metadata": {},
   "outputs": [],
   "source": [
    "--insert into test values (3, \"Rishabh\", \"M\", \"15/06/2001\",\"GEF@gmail.com\"\t);\n",
    "--CREATE table NEW_TABLE (id INTEGER PRIMARY key AUTOINCREMENT,\n",
    "                    --Name Text);"
   ]
  }
 ],
 "metadata": {
  "kernelspec": {
   "display_name": "Python 3",
   "language": "python",
   "name": "python3"
  },
  "language_info": {
   "codemirror_mode": {
    "name": "ipython",
    "version": 3
   },
   "file_extension": ".py",
   "mimetype": "text/x-python",
   "name": "python",
   "nbconvert_exporter": "python",
   "pygments_lexer": "ipython3",
   "version": "3.7.4"
  }
 },
 "nbformat": 4,
 "nbformat_minor": 2
}
