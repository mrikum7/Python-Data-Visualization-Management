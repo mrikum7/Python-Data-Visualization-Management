{
 "cells": [
  {
   "cell_type": "code",
   "execution_count": null,
   "metadata": {},
   "outputs": [],
   "source": [
    "create table Customer(CustomerId INTEGER PRIMARY KEY,\n",
    "\t\t\t\t\t\tName TEXT,\n",
    "\t\t\t\t\t\tContact INTEGER,\n",
    "\t\t\t\t\t\tAddress TEXT);"
   ]
  },
  {
   "cell_type": "code",
   "execution_count": 1,
   "metadata": {},
   "outputs": [
    {
     "data": {
      "text/plain": [
       "'/home/mrikum7/Telematics/PyDaViMa-2020/Codes'"
      ]
     },
     "execution_count": 1,
     "metadata": {},
     "output_type": "execute_result"
    }
   ],
   "source": [
    "pwd"
   ]
  },
  {
   "cell_type": "code",
   "execution_count": 2,
   "metadata": {},
   "outputs": [
    {
     "name": "stdout",
     "output_type": "stream",
     "text": [
      "/home/mrikum7/Telematics/PyDaViMa-2020/SQLite\n"
     ]
    }
   ],
   "source": [
    "cd ../SQLite/"
   ]
  },
  {
   "cell_type": "code",
   "execution_count": 10,
   "metadata": {},
   "outputs": [],
   "source": [
    "from sqlite3 import Connection\n",
    "\n",
    "class Library(Connection):     \n",
    "    def __init__(self, file):\n",
    "        super().__init__(file)\n",
    "        sql = \"\"\"create table if not exists Books(\n",
    "                    BookId Interger Primary Key,\n",
    "                    Name Varchar(50),\n",
    "                    Author Varchar(50),\n",
    "                    NOP integer);\"\"\" ##Create Books table with BookId, Name, Author, NOP\n",
    "        self.execute(sql)\n",
    "    \n",
    "    def insert(self, Name, Author, NOP):\n",
    "        sql = f\"insert into Books(Name, Author, NOP) values('{Name}', '{Author}', {NOP})\"\n",
    "        self.execute(sql) \n",
    "    \n",
    "    def print_All(self):\n",
    "        sql = \"select * from Books;\"\n",
    "        self.execute(sql)\n",
    "    \n",
    "    def deleteRow(self, BookId): \n",
    "        sql = f\"delete from Books where BookId = {BookId}\"\n",
    "        self.execute(sql)\n",
    "    \n",
    "obj = Library('Python_Library.db')\n"
   ]
  },
  {
   "cell_type": "code",
   "execution_count": 11,
   "metadata": {},
   "outputs": [],
   "source": [
    "obj.insert(\"Brief History of Time\", \"Stephen Hawking\", 350)"
   ]
  },
  {
   "cell_type": "code",
   "execution_count": 15,
   "metadata": {},
   "outputs": [],
   "source": [
    "obj.print_All() ## DHA4 : Identify why print_All() method \n",
    "                ##        is not working and fix it"
   ]
  },
  {
   "cell_type": "code",
   "execution_count": null,
   "metadata": {},
   "outputs": [],
   "source": []
  }
 ],
 "metadata": {
  "kernelspec": {
   "display_name": "Python 3",
   "language": "python",
   "name": "python3"
  },
  "language_info": {
   "codemirror_mode": {
    "name": "ipython",
    "version": 3
   },
   "file_extension": ".py",
   "mimetype": "text/x-python",
   "name": "python",
   "nbconvert_exporter": "python",
   "pygments_lexer": "ipython3",
   "version": "3.7.4"
  }
 },
 "nbformat": 4,
 "nbformat_minor": 2
}
