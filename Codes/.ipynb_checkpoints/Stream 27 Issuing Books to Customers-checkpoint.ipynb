{
 "cells": [
  {
   "cell_type": "markdown",
   "metadata": {},
   "source": [
    "## Issuing Books to Customers"
   ]
  },
  {
   "cell_type": "code",
   "execution_count": 2,
   "metadata": {},
   "outputs": [
    {
     "data": {
      "text/plain": [
       "'/home/mrikum7/Telematics/PyDaViMa-2020/Codes'"
      ]
     },
     "execution_count": 2,
     "metadata": {},
     "output_type": "execute_result"
    }
   ],
   "source": [
    "pwd"
   ]
  },
  {
   "cell_type": "code",
   "execution_count": 1,
   "metadata": {},
   "outputs": [
    {
     "name": "stdout",
     "output_type": "stream",
     "text": [
      "/home/mrikum7/Telematics/PyDaViMa-2020/SQLite\n"
     ]
    }
   ],
   "source": [
    "cd ../SQLite/"
   ]
  },
  {
   "cell_type": "code",
   "execution_count": 2,
   "metadata": {},
   "outputs": [],
   "source": [
    "from sqlite3 import Connection\n",
    "\n",
    "class Library(Connection):\n",
    "    def __init__(self, file):\n",
    "        super().__init__(file)\n",
    "        sql1 = \"\"\"create table if not exists Customer(\n",
    "                        CustomerId integer primary key,\n",
    "                        Name varchar(50),\n",
    "                        contact integer,\n",
    "                        Address varchar(100));\"\"\"\n",
    "        sql2 = \"\"\"create table if not exists Books(\n",
    "                        BookId integer primary key,\n",
    "                        BookName Varchar(50),\n",
    "                        Author varchar(50),\n",
    "                        NOP integer,\n",
    "                        CustomerId integer);\"\"\"\n",
    "        self.execute(sql1)\n",
    "        self.execute(sql2)\n",
    "    \n",
    "    def printBooks(self):\n",
    "        sql = \"\"\"select * from Books;\"\"\"\n",
    "        return self.execute(sql).fetchall()\n",
    "    \n",
    "    def printCustomers(self):\n",
    "        sql = \"\"\"select * from Customer;\"\"\"\n",
    "        return self.execute(sql).fetchall()\n",
    "    \n",
    "    def custIdfromName(self, Name):\n",
    "        sql = f\"select CustomerId, Name from Customer where Name like '%{Name}%'\"\n",
    "        return self.execute(sql).fetchall()\n",
    "    \n",
    "obj = Library('Library.db')"
   ]
  },
  {
   "cell_type": "code",
   "execution_count": 5,
   "metadata": {},
   "outputs": [
    {
     "data": {
      "text/plain": [
       "[(1, 'A Brief History of Time', 'Stephen Hawking', 350, None),\n",
       " (2, 'The Power of Now', 'Eckhart Tolle', 250, None),\n",
       " (3, 'The Monk Who sold his Ferrari', 'Robin Sharma', 200, None),\n",
       " (4, 'Rich Dad Poor Dad', 'Robert Kiyosaki', 450, 5),\n",
       " (5, 'The Hound of Baskervilles', 'Arthur Conan Doyle', 300, None)]"
      ]
     },
     "execution_count": 5,
     "metadata": {},
     "output_type": "execute_result"
    }
   ],
   "source": [
    "obj.execute('select * from Books;').fetchall()"
   ]
  },
  {
   "cell_type": "code",
   "execution_count": 6,
   "metadata": {},
   "outputs": [
    {
     "data": {
      "text/plain": [
       "[(1, 'ABC DEF', 1234567890, 'ABC DEF GHI JKL'),\n",
       " (2, 'GHI DFR', 1234567890, ''),\n",
       " (3, 'Harry Potter', 8024727382, 'England'),\n",
       " (4, 'Iron man', 3245678901, 'New York'),\n",
       " (5, 'Tony Stark', 7572846374, 'America')]"
      ]
     },
     "execution_count": 6,
     "metadata": {},
     "output_type": "execute_result"
    }
   ],
   "source": [
    "obj.execute('select * from Customer;').fetchall()"
   ]
  },
  {
   "cell_type": "code",
   "execution_count": 3,
   "metadata": {},
   "outputs": [
    {
     "data": {
      "text/plain": [
       "[]"
      ]
     },
     "execution_count": 3,
     "metadata": {},
     "output_type": "execute_result"
    }
   ],
   "source": [
    "obj.custIdfromName('Tony')"
   ]
  },
  {
   "cell_type": "code",
   "execution_count": null,
   "metadata": {},
   "outputs": [],
   "source": []
  }
 ],
 "metadata": {
  "kernelspec": {
   "display_name": "Python 3",
   "language": "python",
   "name": "python3"
  },
  "language_info": {
   "codemirror_mode": {
    "name": "ipython",
    "version": 3
   },
   "file_extension": ".py",
   "mimetype": "text/x-python",
   "name": "python",
   "nbconvert_exporter": "python",
   "pygments_lexer": "ipython3",
   "version": "3.7.4"
  }
 },
 "nbformat": 4,
 "nbformat_minor": 2
}
