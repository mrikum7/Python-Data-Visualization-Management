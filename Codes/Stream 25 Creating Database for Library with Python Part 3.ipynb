{
 "cells": [
  {
   "cell_type": "code",
   "execution_count": null,
   "metadata": {},
   "outputs": [],
   "source": [
    "create table Customer(CustomerId INTEGER PRIMARY KEY,\n",
    "\t\t\t\t\t\tName TEXT,\n",
    "\t\t\t\t\t\tContact INTEGER,\n",
    "\t\t\t\t\t\tAddress TEXT);"
   ]
  },
  {
   "cell_type": "code",
   "execution_count": 2,
   "metadata": {},
   "outputs": [
    {
     "data": {
      "text/plain": [
       "'/home/mrikum7/Telematics/PyDaViMa-2020/Codes'"
      ]
     },
     "execution_count": 2,
     "metadata": {},
     "output_type": "execute_result"
    }
   ],
   "source": [
    "pwd"
   ]
  },
  {
   "cell_type": "code",
   "execution_count": 3,
   "metadata": {},
   "outputs": [
    {
     "name": "stdout",
     "output_type": "stream",
     "text": [
      "/home/mrikum7/Telematics/PyDaViMa-2020/SQLite\n"
     ]
    }
   ],
   "source": [
    "cd ../SQLite/"
   ]
  },
  {
   "cell_type": "code",
   "execution_count": 36,
   "metadata": {},
   "outputs": [],
   "source": [
    "from sqlite3 import Connection\n",
    "\n",
    "class Library(Connection):     \n",
    "    def __init__(self, file):\n",
    "        super().__init__(file)\n",
    "        sql1 = \"\"\"create table if not exists Books(\n",
    "                    BookId Integer Primary Key,\n",
    "                    Name Varchar(50),\n",
    "                    Author Varchar(50),\n",
    "                    NOP integer);\"\"\" ##Create Books table with BookId, Name, Author, NOP\n",
    "        self.execute(sql1)\n",
    "        sql2 = \"\"\"create table if not exists Customer(\n",
    "                    CustomerId Integer Primary Key,\n",
    "                    Name Varchar(50),\n",
    "                    Contact integer,\n",
    "                    Address Varchar(100));\"\"\"\n",
    "        self.execute(sql2)\n",
    "    \n",
    "    def insertBook(self, Name, Author, NOP):\n",
    "        sql = f\"insert into Books(Name, Author, NOP) values('{Name}', '{Author}', {NOP})\"\n",
    "        self.execute(sql) \n",
    "    \n",
    "    def printBooks(self):\n",
    "        sql = \"select * from Books;\"\n",
    "        return self.execute(sql).fetchall()\n",
    "    \n",
    "    def deleteBook(self, BookId): \n",
    "        sql = f\"delete from Books where BookId = {BookId}\"\n",
    "        self.execute(sql)\n",
    "    \n",
    "    def insertCustomer(self, Name, Contact, Address):\n",
    "        sql = f\"insert into Customer(Name, Contact, Address) values('{Name}', '{Contact}', '{Address}');\"\n",
    "        self.execute(sql)\n",
    "    \n",
    "    def printCustomer(self):\n",
    "        sql = \"select * from Customer;\"\n",
    "        return self.execute(sql).fetchall()\n",
    "    \n",
    "    def deleteCustomer(self, CustomerId):\n",
    "        sql = f\"delete from Customer where CustomerId = {CustomerId}\"\n",
    "        self.execute(sql)\n",
    "    \n",
    "obj = Library('Python_Library.db')\n"
   ]
  },
  {
   "cell_type": "code",
   "execution_count": 31,
   "metadata": {},
   "outputs": [],
   "source": [
    "obj.insertBook(\"Brief History of Time\", \"Stephen Hawking\", 350)"
   ]
  },
  {
   "cell_type": "code",
   "execution_count": 37,
   "metadata": {},
   "outputs": [
    {
     "data": {
      "text/plain": [
       "[(1, 'Brief History of Time', 'Stephen Hawking', 350)]"
      ]
     },
     "execution_count": 37,
     "metadata": {},
     "output_type": "execute_result"
    }
   ],
   "source": [
    "obj.printBooks() ## DHA4 : Identify why print_All() method \n",
    "                ##        is not working and fix it"
   ]
  },
  {
   "cell_type": "code",
   "execution_count": 38,
   "metadata": {
    "scrolled": true
   },
   "outputs": [],
   "source": [
    "obj.insertCustomer(\"Harry Potter\", \"8024727382\", \"England\")"
   ]
  },
  {
   "cell_type": "code",
   "execution_count": 40,
   "metadata": {},
   "outputs": [],
   "source": [
    "obj.insertCustomer(\"Iron man\",\"3245678901\",\"New York\")"
   ]
  },
  {
   "cell_type": "code",
   "execution_count": 41,
   "metadata": {},
   "outputs": [],
   "source": [
    "obj.insertCustomer (\"Tony Stark\" ,\"7572846374\",\"America\")"
   ]
  },
  {
   "cell_type": "code",
   "execution_count": 42,
   "metadata": {},
   "outputs": [
    {
     "data": {
      "text/plain": [
       "[(1, 'Harry Potter', 8024727382, 'England'),\n",
       " (2, 'Iron man', 3245678901, 'New York'),\n",
       " (3, 'Tony Stark', 7572846374, 'America')]"
      ]
     },
     "execution_count": 42,
     "metadata": {},
     "output_type": "execute_result"
    }
   ],
   "source": [
    "obj.printCustomer()"
   ]
  },
  {
   "cell_type": "code",
   "execution_count": 35,
   "metadata": {},
   "outputs": [],
   "source": [
    "obj.commit()\n",
    "obj.close()"
   ]
  },
  {
   "cell_type": "code",
   "execution_count": null,
   "metadata": {},
   "outputs": [],
   "source": []
  }
 ],
 "metadata": {
  "kernelspec": {
   "display_name": "Python 3",
   "language": "python",
   "name": "python3"
  },
  "language_info": {
   "codemirror_mode": {
    "name": "ipython",
    "version": 3
   },
   "file_extension": ".py",
   "mimetype": "text/x-python",
   "name": "python",
   "nbconvert_exporter": "python",
   "pygments_lexer": "ipython3",
   "version": "3.7.4"
  }
 },
 "nbformat": 4,
 "nbformat_minor": 2
}
