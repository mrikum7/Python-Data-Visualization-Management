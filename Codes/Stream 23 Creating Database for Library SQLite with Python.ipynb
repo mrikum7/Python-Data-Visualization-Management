{
 "cells": [
  {
   "cell_type": "code",
   "execution_count": null,
   "metadata": {},
   "outputs": [],
   "source": [
    "create table Books (\n",
    "\t\t\t\tBookId INTEGER PRIMARY KEY,\n",
    "\t\t\t\tBookName VARCHAR(50), \n",
    "\t\t\t\tAuthor VARCHAR(50),\n",
    "\t\t\t\tNOP INTEGER);"
   ]
  }
 ],
 "metadata": {
  "kernelspec": {
   "display_name": "Python 3",
   "language": "python",
   "name": "python3"
  },
  "language_info": {
   "codemirror_mode": {
    "name": "ipython",
    "version": 3
   },
   "file_extension": ".py",
   "mimetype": "text/x-python",
   "name": "python",
   "nbconvert_exporter": "python",
   "pygments_lexer": "ipython3",
   "version": "3.7.4"
  }
 },
 "nbformat": 4,
 "nbformat_minor": 2
}
