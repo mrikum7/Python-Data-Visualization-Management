{
 "cells": [
  {
   "cell_type": "markdown",
   "metadata": {},
   "source": [
    "## Stream 19 Update, delete, case, in and subquerying"
   ]
  },
  {
   "cell_type": "code",
   "execution_count": null,
   "metadata": {},
   "outputs": [],
   "source": [
    "--SELECT Composer from tracks where AlbumId in (SELECT AlbumId from albums);"
   ]
  },
  {
   "cell_type": "code",
   "execution_count": null,
   "metadata": {},
   "outputs": [],
   "source": [
    "--CREATE table telematics2 (Roll INTEGER PRIMARY KEY, name TEXT);\n",
    "--INSERT into telematics2 (Roll, Name) SELECT Roll, Name from telematics LIMIT 40 OFFSET 1;\n",
    "\n"
   ]
  },
  {
   "cell_type": "code",
   "execution_count": null,
   "metadata": {},
   "outputs": [],
   "source": [
    "SELECT Composer, CASE Composer WHEN \"AC/DC\" THEN \"Best\" WHEN \"Steve Harris\" THEN \"Second Best\" ELse \"LAST\" END Artist from tracks;"
   ]
  },
  {
   "cell_type": "code",
   "execution_count": null,
   "metadata": {},
   "outputs": [],
   "source": [
    "update test1 set Composer = \"Harsh Agarwal\" where TrackId = 3501;"
   ]
  },
  {
   "cell_type": "code",
   "execution_count": null,
   "metadata": {},
   "outputs": [],
   "source": [
    "update test1 set Composer = \"Harsh Agarwal\" where TrackId BETWEEN 3501 and 3510;\n",
    "-- Write a query to change Composer to Harsh Agarwal 3501 - 3510.\n"
   ]
  },
  {
   "cell_type": "code",
   "execution_count": null,
   "metadata": {},
   "outputs": [],
   "source": [
    "-- Write a query which deletes rows having Wild in Name;\n",
    "\n",
    "DELETE from test1 where Name like \"%wild%\";"
   ]
  }
 ],
 "metadata": {
  "kernelspec": {
   "display_name": "Python 3",
   "language": "python",
   "name": "python3"
  },
  "language_info": {
   "codemirror_mode": {
    "name": "ipython",
    "version": 3
   },
   "file_extension": ".py",
   "mimetype": "text/x-python",
   "name": "python",
   "nbconvert_exporter": "python",
   "pygments_lexer": "ipython3",
   "version": "3.7.4"
  }
 },
 "nbformat": 4,
 "nbformat_minor": 2
}
