{
 "cells": [
  {
   "cell_type": "code",
   "execution_count": 58,
   "metadata": {},
   "outputs": [],
   "source": [
    "class One:\n",
    "    pass\n",
    "class Two(One):\n",
    "    pass\n",
    "class Three(Two):\n",
    "    pass"
   ]
  },
  {
   "cell_type": "code",
   "execution_count": 59,
   "metadata": {},
   "outputs": [],
   "source": [
    "obj = Three()"
   ]
  },
  {
   "cell_type": "code",
   "execution_count": 57,
   "metadata": {},
   "outputs": [
    {
     "name": "stdout",
     "output_type": "stream",
     "text": [
      "Help on Three in module __main__ object:\n",
      "\n",
      "class Three(Two)\n",
      " |  Method resolution order:\n",
      " |      Three\n",
      " |      Two\n",
      " |      One\n",
      " |      builtins.object\n",
      " |  \n",
      " |  Data descriptors inherited from One:\n",
      " |  \n",
      " |  __dict__\n",
      " |      dictionary for instance variables (if defined)\n",
      " |  \n",
      " |  __weakref__\n",
      " |      list of weak references to the object (if defined)\n",
      "\n"
     ]
    }
   ],
   "source": [
    "help(obj)"
   ]
  },
  {
   "cell_type": "code",
   "execution_count": 89,
   "metadata": {},
   "outputs": [],
   "source": [
    "class Student:\n",
    "    def __init__(self, **kwargs):\n",
    "        \"\"\"This class constructor requires name, faculty, sem, email\"\"\"\n",
    "        self.name = kwargs['name']\n",
    "        self.faculty = kwargs['faculty']\n",
    "        self.sem = kwargs['sem']\n",
    "        self.email = kwargs['email']\n",
    "    def __repr__(self):\n",
    "        return f'{self.name} has email : {self.email}'\n",
    "    \n",
    "    def changeEmail(self, **kwargs):\n",
    "        self.email = kwargs['email']\n",
    "        self.sem = kwargs['sem']#How will you change the sem"
   ]
  },
  {
   "cell_type": "code",
   "execution_count": 90,
   "metadata": {},
   "outputs": [],
   "source": [
    "a = Student(name = \"Shubham\", faculty = \"Science\", sem = 3, email = \"abc@gmail.com\")"
   ]
  },
  {
   "cell_type": "code",
   "execution_count": 92,
   "metadata": {},
   "outputs": [],
   "source": [
    "a.changeEmail(email = \"def@gmail.com\", sem = 4)"
   ]
  },
  {
   "cell_type": "code",
   "execution_count": 95,
   "metadata": {},
   "outputs": [
    {
     "data": {
      "text/plain": [
       "'def@gmail.com'"
      ]
     },
     "execution_count": 95,
     "metadata": {},
     "output_type": "execute_result"
    }
   ],
   "source": [
    "a.email"
   ]
  },
  {
   "cell_type": "code",
   "execution_count": null,
   "metadata": {},
   "outputs": [],
   "source": []
  }
 ],
 "metadata": {
  "kernelspec": {
   "display_name": "Python 3",
   "language": "python",
   "name": "python3"
  },
  "language_info": {
   "codemirror_mode": {
    "name": "ipython",
    "version": 3
   },
   "file_extension": ".py",
   "mimetype": "text/x-python",
   "name": "python",
   "nbconvert_exporter": "python",
   "pygments_lexer": "ipython3",
   "version": "3.7.4"
  }
 },
 "nbformat": 4,
 "nbformat_minor": 2
}
