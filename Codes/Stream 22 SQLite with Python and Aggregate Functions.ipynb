{
 "cells": [
  {
   "cell_type": "code",
   "execution_count": null,
   "metadata": {},
   "outputs": [],
   "source": [
    "--Aggregate Functions\n",
    "--SELECT avg(Milliseconds) from tracks;\n"
   ]
  },
  {
   "cell_type": "code",
   "execution_count": null,
   "metadata": {},
   "outputs": [],
   "source": [
    "--SELECT DISTINCT Composer from tracks;"
   ]
  },
  {
   "cell_type": "code",
   "execution_count": null,
   "metadata": {},
   "outputs": [],
   "source": [
    "--SELECT name, max(Milliseconds) from tracks;"
   ]
  },
  {
   "cell_type": "code",
   "execution_count": null,
   "metadata": {},
   "outputs": [],
   "source": [
    "--SELECT sum(Milliseconds)/count(Milliseconds) from tracks;"
   ]
  },
  {
   "cell_type": "code",
   "execution_count": 3,
   "metadata": {},
   "outputs": [
    {
     "name": "stdout",
     "output_type": "stream",
     "text": [
      "database.db  SQL-cheat-sheet.pdf  tele.db-journal  telematics.db\r\n",
      "music.db     tele.db              telematics.csv\r\n"
     ]
    }
   ],
   "source": [
    "ls"
   ]
  },
  {
   "cell_type": "code",
   "execution_count": 6,
   "metadata": {},
   "outputs": [],
   "source": [
    "from sqlite3 import Connection\n",
    "\n",
    "class Tracks(Connection):\n",
    "    def __init__(self, file):\n",
    "        super().__init__(file)\n",
    "        \n",
    "    def Sum(self, col):\n",
    "        sql = \"select sum({}) from tracks;\".format(col)\n",
    "        return self.execute(sql).fetchall()\n",
    "## Implement Aggregate (avg) Function over here.\n",
    "    def Avg(self, col):\n",
    "        sql = \"select avg({}) from tracks;\".format(col)\n",
    "        return self.execute(sql).fetchall()\n",
    "\n",
    "obj = Tracks('music.db')\n",
    "\n",
    "\n",
    "## DHA3 Implement All the Aggregate Functions in the class as shown above"
   ]
  },
  {
   "cell_type": "code",
   "execution_count": 8,
   "metadata": {},
   "outputs": [
    {
     "data": {
      "text/plain": [
       "[(6137256,)]"
      ]
     },
     "execution_count": 8,
     "metadata": {},
     "output_type": "execute_result"
    }
   ],
   "source": [
    "obj.Sum('TrackId')"
   ]
  },
  {
   "cell_type": "code",
   "execution_count": null,
   "metadata": {},
   "outputs": [],
   "source": []
  }
 ],
 "metadata": {
  "kernelspec": {
   "display_name": "Python 3",
   "language": "python",
   "name": "python3"
  },
  "language_info": {
   "codemirror_mode": {
    "name": "ipython",
    "version": 3
   },
   "file_extension": ".py",
   "mimetype": "text/x-python",
   "name": "python",
   "nbconvert_exporter": "python",
   "pygments_lexer": "ipython3",
   "version": "3.7.4"
  }
 },
 "nbformat": 4,
 "nbformat_minor": 2
}
